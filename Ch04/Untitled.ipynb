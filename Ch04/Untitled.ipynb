{
 "cells": [
  {
   "cell_type": "code",
   "execution_count": 1,
   "metadata": {
    "collapsed": true
   },
   "outputs": [],
   "source": [
    "###!~/anaconda/envs/py35/python3\n",
    "# frame.py by Barron Stone\n",
    "# This is an exercise file from Python GUI Development with Tkinter on lynda.com\n",
    "\n",
    "from tkinter import *\n",
    "from tkinter import ttk\n",
    "\n",
    "root = Tk()\n",
    "\n",
    "frame = ttk.Frame(root)\n",
    "frame.pack()\n",
    "frame.config(height = 100, width = 200)\n",
    "frame.config(relief = RIDGE)\n",
    "ttk.Button(frame, text = 'Click Me').pack()\n",
    "frame.config(padding = (30, 15))\n",
    "ttk.LabelFrame(root, height = 100, width = 200, text = 'My Frame').pack()\n",
    "\n",
    "root.mainloop()\n"
   ]
  },
  {
   "cell_type": "code",
   "execution_count": 2,
   "metadata": {
    "collapsed": false
   },
   "outputs": [
    {
     "name": "stdout",
     "output_type": "stream",
     "text": [
      "normal\n",
      "200x200+50+100\n"
     ]
    },
    {
     "data": {
      "text/plain": [
       "''"
      ]
     },
     "execution_count": 2,
     "metadata": {},
     "output_type": "execute_result"
    }
   ],
   "source": [
    "#!/usr/bin/python3\n",
    "# toplevel.py by Barron Stone\n",
    "# This is an exercise file from Python GUI Development with Tkinter on lynda.com\n",
    "\n",
    "from tkinter import *\n",
    "\n",
    "root = Tk()\n",
    "\n",
    "window = Toplevel(root)\n",
    "window.title('New Window')\n",
    "\n",
    "window.lower()\n",
    "window.lift(root)\n",
    "\n",
    "window.state('zoomed')\n",
    "window.state('withdrawn')\n",
    "window.state('iconic')\n",
    "window.state('normal')\n",
    "print(window.state())\n",
    "window.state('normal')\n",
    "\n",
    "window.iconify()\n",
    "window.deiconify()\n",
    "\n",
    "window.geometry('640x480+50+100')\n",
    "print(window.geometry())\n",
    "window.resizable(False, False)\n",
    "window.maxsize(640, 480)\n",
    "window.minsize(200, 200)\n",
    "window.resizable(True, True)\n",
    "\n",
    "# root.destroy()\n",
    "\n",
    "# root.mainloop()\n"
   ]
  },
  {
   "cell_type": "code",
   "execution_count": 12,
   "metadata": {
    "collapsed": true
   },
   "outputs": [],
   "source": [
    "##!/usr/bin/python3\n",
    "# panedwindow.py by Barron Stone\n",
    "# This is an exercise file from Python GUI Development with Tkinter on lynda.com\n",
    "\n",
    "from tkinter import *\n",
    "from tkinter import ttk\n",
    "\n",
    "root = Tk()\n",
    "\n",
    "panedwindow = ttk.Panedwindow(root, orient = HORIZONTAL)\n",
    "panedwindow.pack(fill = BOTH, expand = True)\n",
    "\n",
    "frame1 = ttk.Frame(panedwindow, width = 100, height = 300, relief = SUNKEN)\n",
    "frame2 = ttk.Frame(panedwindow, width = 400, height = 400, relief = SUNKEN)\n",
    "panedwindow.add(frame1, weight = 1)\n",
    "panedwindow.add(frame2, weight = 4)\n",
    "\n",
    "frame3 = ttk.Frame(panedwindow, width = 50, height = 50, relief = SUNKEN)\n",
    "panedwindow.insert(1, frame3)\n",
    "# panedwindow.forget(1)\n",
    "\n",
    "root.mainloop()\n"
   ]
  },
  {
   "cell_type": "code",
   "execution_count": 21,
   "metadata": {
    "collapsed": false
   },
   "outputs": [
    {
     "name": "stdout",
     "output_type": "stream",
     "text": [
      ".4518701432.4518701768\n",
      "0\n"
     ]
    }
   ],
   "source": [
    "#!/usr/bin/python3\n",
    "# notebook.py by Barron Stone\n",
    "# This is an exercise file from Python GUI Development with Tkinter on lynda.com\n",
    "\n",
    "from tkinter import *\n",
    "from tkinter import ttk        \n",
    "    \n",
    "root = Tk()\n",
    "\n",
    "notebook = ttk.Notebook(root)\n",
    "notebook.pack()\n",
    "\n",
    "frame1 = ttk.Frame(notebook)\n",
    "frame2 = ttk.Frame(notebook)\n",
    "notebook.add(frame1, text = 'One')\n",
    "notebook.add(frame2, text = 'Two')\n",
    "ttk.Button(frame1, text = 'Click Me').pack()\n",
    "\n",
    "frame3 = ttk.Frame(notebook)\n",
    "notebook.insert(1, frame3, text = 'Three')\n",
    "notebook.forget(1)\n",
    "notebook.add(frame3, text = 'Three')\n",
    "\n",
    "print(notebook.select())\n",
    "print(notebook.index(notebook.select()))\n",
    "notebook.select(2)\n",
    "\n",
    "# notebook.tab(1, state = 'disabled')\n",
    "# notebook.tab(1, state = 'hidden')\n",
    "# notebook.tab(1, state = 'normal')\n",
    "# notebook.tab(1, 'text')\n",
    "# notebook.tab(1)\n",
    "\n",
    "root.mainloop()\n"
   ]
  },
  {
   "cell_type": "code",
   "execution_count": 16,
   "metadata": {
    "collapsed": false
   },
   "outputs": [],
   "source": [
    "#!/usr/bin/python3\n",
    "# notebook.py by Barron Stone\n",
    "# Example of combobox\n",
    "\n",
    "from tkinter import *\n",
    "from tkinter import ttk        \n",
    "    \n",
    "root = Tk()\n",
    "# root.title('Root Window')\n",
    "\n",
    "\n",
    "month = StringVar()\n",
    "combobox = ttk.Combobox(root, textvariable = month)\n",
    "combobox.pack()\n",
    "combobox.config(values = ('Jan', 'Feb', 'Mar', 'Apr', 'May'))\n",
    "\n",
    "root.mainloop()\n"
   ]
  },
  {
   "cell_type": "code",
   "execution_count": null,
   "metadata": {
    "collapsed": true
   },
   "outputs": [],
   "source": []
  },
  {
   "cell_type": "code",
   "execution_count": null,
   "metadata": {
    "collapsed": true
   },
   "outputs": [],
   "source": []
  }
 ],
 "metadata": {
  "anaconda-cloud": {},
  "kernelspec": {
   "display_name": "Python [py35]",
   "language": "python",
   "name": "Python [py35]"
  },
  "language_info": {
   "codemirror_mode": {
    "name": "ipython",
    "version": 3
   },
   "file_extension": ".py",
   "mimetype": "text/x-python",
   "name": "python",
   "nbconvert_exporter": "python",
   "pygments_lexer": "ipython3",
   "version": "3.5.2"
  }
 },
 "nbformat": 4,
 "nbformat_minor": 0
}
