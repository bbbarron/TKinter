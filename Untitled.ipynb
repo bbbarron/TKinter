{
 "cells": [
  {
   "cell_type": "code",
   "execution_count": 9,
   "metadata": {
    "collapsed": false
   },
   "outputs": [],
   "source": [
    "#!/usr/bin/python3\n",
    "# text.py by Barron Stone\n",
    "# This is an exercise file from Python GUI Development with Tkinter on lynda.com\n",
    "\n",
    "from tkinter import *      \n",
    "    \n",
    "root = Tk()\n",
    "\n",
    "text = Text(root, width = 40, height = 10)\n",
    "text.pack()\n",
    "text.config(wrap = 'word')\n",
    "\n",
    "# print(text.get('1.0', 'end'))\n",
    "# print(text.get('1.0', '1.end'))\n",
    "# text.insert('1.0 + 2 lines', 'Inserted message')\n",
    "# text.insert('1.0 + 2 lines lineend', ' and\\nmore and\\nmore.')\n",
    "# text.delete('1.0')\n",
    "# text.delete('1.0', '1.0 lineend')\n",
    "# text.delete('1.0', '3.0 lineend + 1 chars')\n",
    "# text.replace('1.0', '1.0 lineend', 'This is the first line.')\n",
    "\n",
    "# text.config(state = 'disabled')\n",
    "# text.delete('1.0', 'end')\n",
    "# text.config(state = 'normal')\n",
    "\n",
    "text.tag_add('my_tag', '1.0', '1.0 wordend')\n",
    "text.tag_configure('my_tag', background = 'yellow')\n",
    "\n",
    "# text.tag_remove('my_tag', '1.1', '1.3')\n",
    "# print(text.tag_ranges('my_tag'))\n",
    "# print(text.tag_names())\n",
    "# text.replace('my_tag.first', 'my_tag.last', 'That was')\n",
    "# text.tag_delete('my_tag')\n",
    "\n",
    "# text.mark_names()\n",
    "# text.insert('insert', '_')\n",
    "# text.mark_set('my_mark', 'end')\n",
    "# text.mark_gravity('my_mark', 'right')\n",
    "# text.mark_unset('my_mark')\n",
    "\n",
    "# image = PhotoImage(file = 'python_logo.gif').subsample(5, 5) # Change path as needed\n",
    "# text.image_create('insert', image = image)\n",
    "# text.image_create('insert', image = image)\n",
    "\n",
    "# button = Button(text, text = 'Click Me')\n",
    "# text.window_create('insert', window = button)\n",
    "\n",
    "root.mainloop()\n"
   ]
  },
  {
   "cell_type": "code",
   "execution_count": null,
   "metadata": {
    "collapsed": true
   },
   "outputs": [],
   "source": []
  }
 ],
 "metadata": {
  "anaconda-cloud": {},
  "kernelspec": {
   "display_name": "Python [py35]",
   "language": "python",
   "name": "Python [py35]"
  },
  "language_info": {
   "codemirror_mode": {
    "name": "ipython",
    "version": 3
   },
   "file_extension": ".py",
   "mimetype": "text/x-python",
   "name": "python",
   "nbconvert_exporter": "python",
   "pygments_lexer": "ipython3",
   "version": "3.5.2"
  }
 },
 "nbformat": 4,
 "nbformat_minor": 0
}
